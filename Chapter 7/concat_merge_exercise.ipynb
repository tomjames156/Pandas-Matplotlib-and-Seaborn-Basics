{
 "cells": [
  {
   "cell_type": "code",
   "execution_count": null,
   "id": "f695e651-34b3-4b29-885c-cef31cabda01",
   "metadata": {},
   "outputs": [],
   "source": []
  }
 ],
 "metadata": {
  "kernelspec": {
   "display_name": "",
   "name": ""
  },
  "language_info": {
   "name": ""
  }
 },
 "nbformat": 4,
 "nbformat_minor": 5
}
