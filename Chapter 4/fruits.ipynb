{
 "cells": [
  {
   "cell_type": "code",
   "execution_count": 3,
   "id": "76ea8f46-5665-4c9d-88bc-30bbe79ced09",
   "metadata": {},
   "outputs": [],
   "source": [
    "import pandas as pd\n",
    "\n",
    "fruits_data_file = 'fruits_data.csv'\n",
    "df_fruits = pd.read_csv(fruits_data_file)"
   ]
  },
  {
   "cell_type": "code",
   "execution_count": 9,
   "id": "36cd5040-05a6-47b3-93a0-2b10888bd832",
   "metadata": {},
   "outputs": [
    {
     "data": {
      "text/plain": [
       "['date',\n",
       " 'apple(1kg)',\n",
       " 'banana(1 dozen)',\n",
       " 'grapes(1kg)',\n",
       " 'mango(1kg)',\n",
       " 'Water Melons(1)']"
      ]
     },
     "execution_count": 9,
     "metadata": {},
     "output_type": "execute_result"
    }
   ],
   "source": [
    "list(df_fruits.columns)"
   ]
  },
  {
   "cell_type": "code",
   "execution_count": null,
   "id": "dc7bbd5e-87d5-495e-86a0-acd5cd6cab26",
   "metadata": {},
   "outputs": [],
   "source": []
  }
 ],
 "metadata": {
  "kernelspec": {
   "display_name": "Python 3 (ipykernel)",
   "language": "python",
   "name": "python3"
  },
  "language_info": {
   "codemirror_mode": {
    "name": "ipython",
    "version": 3
   },
   "file_extension": ".py",
   "mimetype": "text/x-python",
   "name": "python",
   "nbconvert_exporter": "python",
   "pygments_lexer": "ipython3",
   "version": "3.12.4"
  }
 },
 "nbformat": 4,
 "nbformat_minor": 5
}
