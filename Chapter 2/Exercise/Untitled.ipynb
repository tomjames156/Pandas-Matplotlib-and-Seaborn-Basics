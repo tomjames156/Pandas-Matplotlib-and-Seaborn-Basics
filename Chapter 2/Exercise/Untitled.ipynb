{
 "cells": [
  {
   "cell_type": "code",
   "execution_count": 8,
   "id": "6db300fe-b47b-4f7e-ba6b-b79b1282a5ec",
   "metadata": {},
   "outputs": [
    {
     "data": {
      "text/html": [
       "<div>\n",
       "<style scoped>\n",
       "    .dataframe tbody tr th:only-of-type {\n",
       "        vertical-align: middle;\n",
       "    }\n",
       "\n",
       "    .dataframe tbody tr th {\n",
       "        vertical-align: top;\n",
       "    }\n",
       "\n",
       "    .dataframe thead th {\n",
       "        text-align: right;\n",
       "    }\n",
       "</style>\n",
       "<table border=\"1\" class=\"dataframe\">\n",
       "  <thead>\n",
       "    <tr style=\"text-align: right;\">\n",
       "      <th></th>\n",
       "      <th>area_type</th>\n",
       "      <th>availability</th>\n",
       "      <th>location</th>\n",
       "      <th>size</th>\n",
       "      <th>society</th>\n",
       "      <th>total_sqft</th>\n",
       "      <th>bath</th>\n",
       "      <th>balcony</th>\n",
       "      <th>price</th>\n",
       "    </tr>\n",
       "  </thead>\n",
       "  <tbody>\n",
       "    <tr>\n",
       "      <th>0</th>\n",
       "      <td>Super built-up  Area</td>\n",
       "      <td>Ready To Move</td>\n",
       "      <td>Ambedkar Nagar</td>\n",
       "      <td>3 BHK</td>\n",
       "      <td>NaN</td>\n",
       "      <td>1920</td>\n",
       "      <td>4.0</td>\n",
       "      <td>2.0</td>\n",
       "      <td>121.0</td>\n",
       "    </tr>\n",
       "    <tr>\n",
       "      <th>1</th>\n",
       "      <td>Plot  Area</td>\n",
       "      <td>18-Aug</td>\n",
       "      <td>Hulimavu</td>\n",
       "      <td>4 Bedroom</td>\n",
       "      <td>ValleCi</td>\n",
       "      <td>1500</td>\n",
       "      <td>4.0</td>\n",
       "      <td>3.0</td>\n",
       "      <td>192.0</td>\n",
       "    </tr>\n",
       "    <tr>\n",
       "      <th>2</th>\n",
       "      <td>Super built-up  Area</td>\n",
       "      <td>Ready To Move</td>\n",
       "      <td>Kalkere</td>\n",
       "      <td>2 BHK</td>\n",
       "      <td>Sothin</td>\n",
       "      <td>925</td>\n",
       "      <td>2.0</td>\n",
       "      <td>1.0</td>\n",
       "      <td>55.0</td>\n",
       "    </tr>\n",
       "    <tr>\n",
       "      <th>3</th>\n",
       "      <td>Plot  Area</td>\n",
       "      <td>Ready To Move</td>\n",
       "      <td>Kodigehalli</td>\n",
       "      <td>2 Bedroom</td>\n",
       "      <td>NaN</td>\n",
       "      <td>500</td>\n",
       "      <td>1.0</td>\n",
       "      <td>0.0</td>\n",
       "      <td>55.0</td>\n",
       "    </tr>\n",
       "    <tr>\n",
       "      <th>4</th>\n",
       "      <td>Super built-up  Area</td>\n",
       "      <td>Ready To Move</td>\n",
       "      <td>Harlur</td>\n",
       "      <td>2 BHK</td>\n",
       "      <td>Prncyrn</td>\n",
       "      <td>1174</td>\n",
       "      <td>2.0</td>\n",
       "      <td>1.0</td>\n",
       "      <td>74.0</td>\n",
       "    </tr>\n",
       "  </tbody>\n",
       "</table>\n",
       "</div>"
      ],
      "text/plain": [
       "              area_type   availability        location       size  society  \\\n",
       "0  Super built-up  Area  Ready To Move  Ambedkar Nagar      3 BHK      NaN   \n",
       "1            Plot  Area         18-Aug        Hulimavu  4 Bedroom  ValleCi   \n",
       "2  Super built-up  Area  Ready To Move         Kalkere      2 BHK  Sothin    \n",
       "3            Plot  Area  Ready To Move     Kodigehalli  2 Bedroom      NaN   \n",
       "4  Super built-up  Area  Ready To Move          Harlur      2 BHK  Prncyrn   \n",
       "\n",
       "   total_sqft  bath  balcony  price  \n",
       "0        1920   4.0      2.0  121.0  \n",
       "1        1500   4.0      3.0  192.0  \n",
       "2         925   2.0      1.0   55.0  \n",
       "3         500   1.0      0.0   55.0  \n",
       "4        1174   2.0      1.0   74.0  "
      ]
     },
     "execution_count": 8,
     "metadata": {},
     "output_type": "execute_result"
    }
   ],
   "source": [
    "import pandas as pd\n",
    "\n",
    "house_data_file = \"../files/bengaluru_house_prices.csv\"\n",
    "df = pd.read_csv(house_data_file)  # read the csv file\n",
    "\n",
    "# show the number of rows and columns in the file\n",
    "df.shape\n",
    "\n",
    "# show the top 5 rows\n",
    "df.head(5)"
   ]
  },
  {
   "cell_type": "code",
   "execution_count": 16,
   "id": "0da2491c-f663-44c2-9738-f2df6ec64684",
   "metadata": {},
   "outputs": [
    {
     "data": {
      "text/plain": [
       "array(['3 BHK', '4 Bedroom', '2 BHK', '2 Bedroom', '1 BHK', '5 BHK',\n",
       "       '3 Bedroom', '5 Bedroom', '1 Bedroom'], dtype=object)"
      ]
     },
     "execution_count": 16,
     "metadata": {},
     "output_type": "execute_result"
    }
   ],
   "source": [
    "# unique values in the 'area_type' column/field\n",
    "\n",
    "df.area_type.unique()\n",
    "\n",
    "# unique values in 'size' column/field\n",
    "\n",
    "df[\"size\"].unique()"
   ]
  },
  {
   "cell_type": "code",
   "execution_count": null,
   "id": "e255a0ad-bcac-457a-96d5-604f0b26175f",
   "metadata": {},
   "outputs": [],
   "source": [
    "df"
   ]
  },
  {
   "cell_type": "code",
   "execution_count": null,
   "id": "1f56f776-3808-419c-8c95-1895c68fd7f3",
   "metadata": {},
   "outputs": [],
   "source": []
  }
 ],
 "metadata": {
  "kernelspec": {
   "display_name": "Python 3 (ipykernel)",
   "language": "python",
   "name": "python3"
  },
  "language_info": {
   "codemirror_mode": {
    "name": "ipython",
    "version": 3
   },
   "file_extension": ".py",
   "mimetype": "text/x-python",
   "name": "python",
   "nbconvert_exporter": "python",
   "pygments_lexer": "ipython3",
   "version": "3.12.4"
  }
 },
 "nbformat": 4,
 "nbformat_minor": 5
}
